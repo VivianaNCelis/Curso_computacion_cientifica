{
 "cells": [
  {
   "cell_type": "markdown",
   "metadata": {},
   "source": [
    "## Usando Python:\n",
    "\n",
    "Hay diferentes maneras de trabajar. Por ahora, para sesiones interactivas utilizaremos la interface interactiva conocida como **ipython**. Para abrirla, desde un terminal digite\n",
    "\n",
    "```\n",
    "ipython\n",
    "```\n",
    "\n",
    "Si en cambio deseamos crear un programa (en cualquier editor de texto) con una serie de instrucciones, y luego pedirle a python que las interprete de forma contínua, debemos almacenar el archivo con la extensión `.py`  y posteriormente lo rodamos desde un terminal así:\n",
    "\n",
    "```\n",
    "python mi_primer_script.py\n",
    "```\n",
    "\n",
    "La tercera forma es mediante un **jupyter notebook**. Simplemente digitamos en el terminal:\n",
    "\n",
    "```\n",
    "jupyter notebook\n",
    "```"
   ]
  },
  {
   "cell_type": "markdown",
   "metadata": {},
   "source": [
    "## Comandos básicos de terminal\n",
    "\n",
    "El símbolo `$` se llama el _prompt_, e indica que el terminal está listo para recibir una orden de entrada. No hay que digitarlo, sólamente los comandos:\n",
    "\n",
    "- Para abrir un terminal `CTRL`+`ALT`+`SHIFT`  \n",
    "- Para conocer mi directorio actual `$ pwd`  \n",
    "- Para listar el contenido de la carpeta donde me encuentro `$ ls`  \n",
    "- Para más detalles `$ ls -lh`  \n",
    "- Para ingresar a un subdirectorio `$ cd nombredelsubdir`  \n",
    "- Para ascender al directorio de nivel superior`$ cd ..`  \n",
    "- Para regresar al directorio donde uno estuvo antes del actual `$ cd -`  \n",
    "- Para desplazarse a un directorio específico `cd /home/minombredeusuario/ruta/especifica/`  \n",
    "- Para limpiar el terminal `clear`  \n",
    "- Para salir `exit`  \n",
    "\n",
    "### Cuidado con los siguientes comandos\n",
    "\n",
    "**¡Peligro!**  \n",
    "_Un archivo sobreescrito o borrado desde el terminal no va a la papelera de reciclaje, se borra completamente del sistema_\n",
    "\n",
    "- Para copiar o socreescribir archivos `$ cp archivodeorigen archivodedestino`  \n",
    "- En caso de directorios, agregar la option `-d` después del comando  \n",
    "- Para mover o socreescribir archivos o directorios `$ mv origen destino`  \n",
    "- Para borrar un archivo `$ rm nombredelarchivo`  \n",
    "- Para borrar un directorio `$ rm -r nombredeldirectorio`  \n",
    "\n",
    "Tips:\n",
    "1. Con las flechas el terminal nos va mostrando los últimos comandos que fueron digitados  \n",
    "2. En Linux, un texto seleccionado se pueden pegar en otro lugar presionando la ruedita de \"scroll\"\n",
    "3. Para verificar la sintaxis de un comando y las opciones disponibles `$ man nombredelcomando` o `$ cp --help` "
   ]
  },
  {
   "cell_type": "code",
   "execution_count": null,
   "metadata": {},
   "outputs": [],
   "source": []
  }
 ],
 "metadata": {
  "kernelspec": {
   "display_name": "Python 3",
   "language": "python",
   "name": "python3"
  },
  "language_info": {
   "codemirror_mode": {
    "name": "ipython",
    "version": 3
   },
   "file_extension": ".py",
   "mimetype": "text/x-python",
   "name": "python",
   "nbconvert_exporter": "python",
   "pygments_lexer": "ipython3",
   "version": "3.6.4"
  }
 },
 "nbformat": 4,
 "nbformat_minor": 2
}
