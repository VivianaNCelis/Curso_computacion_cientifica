{
 "cells": [
  {
   "cell_type": "markdown",
   "metadata": {
    "slideshow": {
     "slide_type": "slide"
    }
   },
   "source": [
    "# Introducción a Python\n",
    "\n",
    "<img src=\"images/python.png\">\n",
    "\n",
    "Python es un lenguaje de programación interpretado cuya filosofía hace hincapié en una sintaxis muy limpia y que favorezca un código legible.\n",
    "\n",
    "- Fue creado en 1991 por Guido van Rossum.\n",
    "- El nombre del lenguaje proviene de la afición de su creador original, por los humoristas británicos [Monty Python](https://mattsko.files.wordpress.com/2015/06/monty-python-431.jpg).\n",
    "\n"
   ]
  },
  {
   "cell_type": "markdown",
   "metadata": {
    "slideshow": {
     "slide_type": "subslide"
    }
   },
   "source": [
    "## Características de Python\n",
    "\n",
    "- Código simple y legible.\n",
    "- Es un lenguaje interpretado y de alto nivel.\n",
    "- Soporta múltiples paradigmas de programación.\n",
    "- Fácilmente extendible usando código compilado en `C` y `C++`\n",
    "- Se ejecuta en cualquier sistema operativo (Windows, Linux, Mac OS)\n",
    "- Es totálmente libre.\n",
    "\n",
    "<img src=\"images/python_pypl.png\" width=\"40%\" align=\"center\">\n",
    "\n",
    "\n",
    "[1. Top 10 popular programming languages.](http://pypl.github.io/PYPL.html)\n",
    "\n"
   ]
  },
  {
   "cell_type": "markdown",
   "metadata": {
    "slideshow": {
     "slide_type": "subslide"
    }
   },
   "source": [
    "### En qué áreas sobresale Python?\n",
    "\n",
    "* Desarrollo de Aplicaciones Web\n",
    "* Computación científica y numérica.\n",
    "* Inteligencia Artificial\n",
    "* Desarrolllo de GUI\n",
    "\n",
    "<img src=\"images/python_pypl2.png\">\n",
    "\n",
    "[2. Programming language trends.](http://pypl.github.io/PYPL.html)"
   ]
  },
  {
   "cell_type": "markdown",
   "metadata": {
    "slideshow": {
     "slide_type": "slide"
    }
   },
   "source": [
    "# Instalación de Python con Anaconda\n",
    "\n",
    "<img src=\"images/anaconda_logo.png\" width=\"20%\">\n",
    "\n",
    "1. Descargar la distribución de python3.6 de [anaconda](https://www.anaconda.com/download/#linux) para Linux en el directorio `tutorial`\n",
    "2. Abrir un terminal en Linux.\n",
    "3. Ir al directorio tutorial usando `cd tutorial`\n",
    "4. Instalar la distribución con `bash Anaconda3-5.2.0-Linux-x86_64.sh`\n",
    "5. Desde la terminal abrir el interprete de python usando `ipython`\n",
    "\n",
    "<img src=\"images/python_ready.png\">\n",
    "\n",
    "---"
   ]
  },
  {
   "cell_type": "code",
   "execution_count": null,
   "metadata": {},
   "outputs": [],
   "source": [
    "print('Hola mundo!')"
   ]
  },
  {
   "cell_type": "markdown",
   "metadata": {
    "slideshow": {
     "slide_type": "slide"
    }
   },
   "source": [
    "## Tipos numéricos\n",
    "\n",
    "Python dispone de los tipos numéricos y las operaciones más habituales"
   ]
  },
  {
   "cell_type": "code",
   "execution_count": null,
   "metadata": {},
   "outputs": [],
   "source": [
    "2 * 4 - (7-1) / 3 + 1.3"
   ]
  },
  {
   "cell_type": "markdown",
   "metadata": {},
   "source": [
    "Las divisiones por cero lanzan un error:"
   ]
  },
  {
   "cell_type": "code",
   "execution_count": null,
   "metadata": {},
   "outputs": [],
   "source": [
    "1 / 0"
   ]
  },
  {
   "cell_type": "markdown",
   "metadata": {},
   "source": [
    "La división entre enteros devuelve un número real."
   ]
  },
  {
   "cell_type": "code",
   "execution_count": null,
   "metadata": {},
   "outputs": [],
   "source": [
    "7 / 3"
   ]
  },
  {
   "cell_type": "markdown",
   "metadata": {},
   "source": [
    "Se puede forzar que la división sea entera en Python con el operador `//`"
   ]
  },
  {
   "cell_type": "code",
   "execution_count": null,
   "metadata": {},
   "outputs": [],
   "source": [
    "7 // 3"
   ]
  },
  {
   "cell_type": "markdown",
   "metadata": {},
   "source": [
    "Se puede realizar potenciación usando el operador `**`"
   ]
  },
  {
   "cell_type": "code",
   "execution_count": null,
   "metadata": {},
   "outputs": [],
   "source": [
    "2 ** 10"
   ]
  },
  {
   "cell_type": "markdown",
   "metadata": {},
   "source": [
    "Y podemos obtener el módulo de una división usando `%`"
   ]
  },
  {
   "cell_type": "code",
   "execution_count": null,
   "metadata": {},
   "outputs": [],
   "source": [
    "129 % 2"
   ]
  },
  {
   "cell_type": "markdown",
   "metadata": {},
   "source": [
    "Otro tipo que nos resultará muy útil son los complejos"
   ]
  },
  {
   "cell_type": "code",
   "execution_count": null,
   "metadata": {},
   "outputs": [],
   "source": [
    "2 + 3j"
   ]
  },
  {
   "cell_type": "markdown",
   "metadata": {
    "slideshow": {
     "slide_type": "subslide"
    }
   },
   "source": [
    "#### Podemos convertir variables a `int, float, complex, str`"
   ]
  },
  {
   "cell_type": "code",
   "execution_count": null,
   "metadata": {
    "slideshow": {
     "slide_type": "-"
    }
   },
   "outputs": [],
   "source": [
    "int(18.6)"
   ]
  },
  {
   "cell_type": "code",
   "execution_count": null,
   "metadata": {},
   "outputs": [],
   "source": [
    "round(18.6)"
   ]
  },
  {
   "cell_type": "code",
   "execution_count": null,
   "metadata": {},
   "outputs": [],
   "source": [
    "float(1)"
   ]
  },
  {
   "cell_type": "code",
   "execution_count": null,
   "metadata": {},
   "outputs": [],
   "source": [
    "complex(2)"
   ]
  },
  {
   "cell_type": "code",
   "execution_count": null,
   "metadata": {},
   "outputs": [],
   "source": [
    "str(256568)"
   ]
  },
  {
   "cell_type": "markdown",
   "metadata": {
    "slideshow": {
     "slide_type": "subslide"
    }
   },
   "source": [
    "## Variables\n",
    "\n",
    "Python reconoce automáticamente que tipo de variable se está creando.\n",
    "\n",
    "- La asignación se realiza con el operador `=`\n",
    "- Los nombres de variables pueden contener letras, números y guión bajo."
   ]
  },
  {
   "cell_type": "code",
   "execution_count": null,
   "metadata": {
    "slideshow": {
     "slide_type": "-"
    }
   },
   "outputs": [],
   "source": [
    "a = 5\n",
    "b = \"diego\"\n",
    "\n",
    "a, b"
   ]
  },
  {
   "cell_type": "code",
   "execution_count": null,
   "metadata": {
    "slideshow": {
     "slide_type": "fragment"
    }
   },
   "outputs": [],
   "source": [
    "type(a), type(b)"
   ]
  },
  {
   "cell_type": "markdown",
   "metadata": {},
   "source": [
    "Podemos realizar **asignaciones múltiples**"
   ]
  },
  {
   "cell_type": "code",
   "execution_count": null,
   "metadata": {},
   "outputs": [],
   "source": [
    "a, b = 5, 100\n",
    "a, b"
   ]
  },
  {
   "cell_type": "markdown",
   "metadata": {},
   "source": [
    "## Operadores de comparación\n",
    "\n",
    "Los operadores de comparación son:\n",
    "\n",
    "- `==` igual a\n",
    "- `!=` distinto de\n",
    "- `<` menor que\n",
    "- `<=` menor o igual que\n",
    "\n",
    "Devolverán un booleano: `True` o `False`"
   ]
  },
  {
   "cell_type": "code",
   "execution_count": null,
   "metadata": {},
   "outputs": [],
   "source": [
    "a == b"
   ]
  },
  {
   "cell_type": "code",
   "execution_count": null,
   "metadata": {},
   "outputs": [],
   "source": [
    "a != b"
   ]
  },
  {
   "cell_type": "code",
   "execution_count": null,
   "metadata": {},
   "outputs": [],
   "source": [
    "print(a < b)\n",
    "print(a <= b)\n",
    "print(a > b)\n",
    "print(a >= b)"
   ]
  },
  {
   "cell_type": "markdown",
   "metadata": {},
   "source": [
    "Podemos incluso saber si un número está en un intervalo"
   ]
  },
  {
   "cell_type": "code",
   "execution_count": null,
   "metadata": {},
   "outputs": [],
   "source": [
    "x = 5\n",
    "3 < x < 10"
   ]
  },
  {
   "cell_type": "markdown",
   "metadata": {},
   "source": [
    "## Booleanos"
   ]
  },
  {
   "cell_type": "code",
   "execution_count": null,
   "metadata": {},
   "outputs": [],
   "source": [
    "True and False"
   ]
  },
  {
   "cell_type": "code",
   "execution_count": null,
   "metadata": {},
   "outputs": [],
   "source": [
    "not False"
   ]
  },
  {
   "cell_type": "code",
   "execution_count": null,
   "metadata": {},
   "outputs": [],
   "source": [
    "True or False"
   ]
  },
  {
   "cell_type": "code",
   "execution_count": null,
   "metadata": {},
   "outputs": [],
   "source": [
    "# Una curiosidad\n",
    "(True + True) * 10"
   ]
  },
  {
   "cell_type": "markdown",
   "metadata": {
    "slideshow": {
     "slide_type": "slide"
    }
   },
   "source": [
    "# Estructuras de datos\n",
    "\n",
    "Colección de elementos usados para almacenar datos relacionados."
   ]
  },
  {
   "cell_type": "markdown",
   "metadata": {
    "slideshow": {
     "slide_type": "subslide"
    }
   },
   "source": [
    "## Listas\n",
    "\n",
    "- Se pueden modificar, añadir o eliminar elementos.\n",
    "- Se crean usando corchetes rectos `[ ]` o el método `list()`\n"
   ]
  },
  {
   "cell_type": "code",
   "execution_count": null,
   "metadata": {
    "slideshow": {
     "slide_type": "-"
    }
   },
   "outputs": [],
   "source": [
    "lista = [1, 2, 3.0, 4.17, '5' ]\n",
    "lista"
   ]
  },
  {
   "cell_type": "code",
   "execution_count": null,
   "metadata": {},
   "outputs": [],
   "source": [
    "lista.append('6') # Añadir un elemento\n",
    "lista.remove(3.0) # Eliminar un elemento\n",
    "\n",
    "print( lista[0])    # Acceder al primer elemento, empieza en CERO\n",
    "print( lista[3])    # Acceder al cuarto elemento\n",
    "print( lista[-1])   # Acceder al último elemento\n"
   ]
  },
  {
   "cell_type": "markdown",
   "metadata": {
    "slideshow": {
     "slide_type": "subslide"
    }
   },
   "source": [
    "## Tuplas\n",
    "\n",
    "- No se pueden modificar después de creadas.\n",
    "- La creación y acceso a una tupla es más rápida que a una lista\n",
    "- Se crean usando parentesis `( )` o el método `tuple()`"
   ]
  },
  {
   "cell_type": "code",
   "execution_count": null,
   "metadata": {},
   "outputs": [],
   "source": [
    "tupla = (1, '2', 3, 4.0, 5e-17)\n",
    "tupla"
   ]
  },
  {
   "cell_type": "code",
   "execution_count": null,
   "metadata": {},
   "outputs": [],
   "source": [
    "print(tupla[-1])   # Acceso es igual que con listas"
   ]
  },
  {
   "cell_type": "markdown",
   "metadata": {},
   "source": [
    "### Otras funciones útiles"
   ]
  },
  {
   "cell_type": "code",
   "execution_count": null,
   "metadata": {},
   "outputs": [],
   "source": [
    "# Tamaño de la colección\n",
    "len(lista), len(tupla)"
   ]
  },
  {
   "cell_type": "code",
   "execution_count": null,
   "metadata": {},
   "outputs": [],
   "source": [
    "2 in lista"
   ]
  },
  {
   "cell_type": "markdown",
   "metadata": {},
   "source": [
    "#### Podemos indexar las secuancias, utilizando la sintaxis \n",
    "`[<inicio>:<final>:<salto>]`"
   ]
  },
  {
   "cell_type": "code",
   "execution_count": null,
   "metadata": {},
   "outputs": [],
   "source": [
    "a = [0, 1, 2, 3, 4, 5, 6, 7, 8, 9]\n",
    "\n",
    "print(a)  \n",
    "\n",
    "print(a[0:10:1])\n",
    "\n",
    "print(a[:4] )  # Imprime desde el primero hasta el cuarto elemento\n",
    "\n",
    "print(a[::2])  # Imprime desde el comienzo al final, en saltos de 2\n",
    "\n",
    "print(a[::-1]) # Revierte la lista\n"
   ]
  },
  {
   "cell_type": "markdown",
   "metadata": {
    "slideshow": {
     "slide_type": "subslide"
    }
   },
   "source": [
    "### Diccionarios\n",
    "\n",
    "- Son una forma más avanzada para manipular colecciones de datos.\n",
    "- Cada elemento requiere una llave y un valor.\n",
    "- Se crean usando corchetes `{ clave : valor }` o el método `dict()`"
   ]
  },
  {
   "cell_type": "code",
   "execution_count": null,
   "metadata": {},
   "outputs": [],
   "source": [
    "diccionario = {\n",
    "    'nombre'  : 'Diego', \n",
    "    'celular' : 'Nokia 1100'\n",
    "    }\n",
    "\n",
    "diccionario"
   ]
  },
  {
   "cell_type": "code",
   "execution_count": null,
   "metadata": {},
   "outputs": [],
   "source": [
    "diccionario['nombre']   # Los elementos se acceden con la clave."
   ]
  },
  {
   "cell_type": "markdown",
   "metadata": {
    "slideshow": {
     "slide_type": "slide"
    }
   },
   "source": [
    "# Indentación en Python\n",
    "\n",
    "Los bloques de código en Python se esctructuran por la indentación.\n",
    "\n",
    "En otros lenguajes se usa el punto y coma `;` y los corchetes `{}` para saber donde termina un bloque de código, y la indentación es un estilo para leer mejor.\n",
    "\n",
    "En **Python** la indentación es un requisito y facilita la lectura del código, esta identación se puede hacer con `espacios` o `tabs`.\n",
    "\n",
    "<img src=\"images/blocks.png\">"
   ]
  },
  {
   "cell_type": "markdown",
   "metadata": {
    "slideshow": {
     "slide_type": "subslide"
    }
   },
   "source": [
    "## Tabs vs Espacios\n",
    "\n",
    "La mayoría de editores de texto convierten un `tab` en `4 espacios` por lo que esta se considera la medida por defecto.\n",
    "\n",
    "<img src=\"images/tabs_vs_spaces.png\" width=60%>"
   ]
  },
  {
   "cell_type": "markdown",
   "metadata": {
    "slideshow": {
     "slide_type": "slide"
    }
   },
   "source": [
    "## Estructura `if`\n",
    "\n",
    "### *Especial atención a la indentación a 4 espacios.*"
   ]
  },
  {
   "cell_type": "code",
   "execution_count": null,
   "metadata": {
    "slideshow": {
     "slide_type": "-"
    }
   },
   "outputs": [],
   "source": [
    "x = int(input(\"Por favor, introduzca un número: \"))\n",
    "\n",
    "if x < 0:\n",
    "    print('Es un número negativo')\n",
    "elif x == 0:\n",
    "    print('Cero')\n",
    "else:\n",
    "    print('Es positivo')\n",
    "    "
   ]
  },
  {
   "cell_type": "markdown",
   "metadata": {
    "slideshow": {
     "slide_type": "subslide"
    }
   },
   "source": [
    "## Estructura `for`\n",
    "\n",
    "Podemos recorrer una lista, tupla, set o diccionario."
   ]
  },
  {
   "cell_type": "code",
   "execution_count": null,
   "metadata": {
    "slideshow": {
     "slide_type": "-"
    }
   },
   "outputs": [],
   "source": [
    "words = ['gato', 'ventana', 'melifluo']\n",
    "\n",
    "for w in words:\n",
    "    print(w, len(w))"
   ]
  },
  {
   "cell_type": "code",
   "execution_count": null,
   "metadata": {
    "slideshow": {
     "slide_type": "fragment"
    }
   },
   "outputs": [],
   "source": [
    "numbers = (0,1,2,3,4,5,6,7,8,9)\n",
    "\n",
    "for n in numbers:\n",
    "    print(n)\n",
    "    if n == 7:\n",
    "        print('Rompemos en siete.')\n",
    "        break"
   ]
  },
  {
   "cell_type": "markdown",
   "metadata": {
    "slideshow": {
     "slide_type": "subslide"
    }
   },
   "source": [
    "## Función `range()`\n",
    "\n",
    "### range( stop)"
   ]
  },
  {
   "cell_type": "code",
   "execution_count": null,
   "metadata": {},
   "outputs": [],
   "source": [
    "# Imprime los números del 0 al 9\n",
    "for i in range(5):\n",
    "    print(i)"
   ]
  },
  {
   "cell_type": "markdown",
   "metadata": {},
   "source": [
    "### range( start, stop, step)"
   ]
  },
  {
   "cell_type": "code",
   "execution_count": null,
   "metadata": {},
   "outputs": [],
   "source": [
    "# Imprime los números del 10 al 100, en pasos de 20\n",
    "for i in range(10, 101, 20):\n",
    "    print(i)"
   ]
  },
  {
   "cell_type": "markdown",
   "metadata": {
    "slideshow": {
     "slide_type": "subslide"
    }
   },
   "source": [
    "## Estructura `while`\n",
    "\n",
    "Repetir un segmento de código hasta que no se cumpla la condición.\n",
    "\n",
    "*Evitar los búcles infinitos*"
   ]
  },
  {
   "cell_type": "code",
   "execution_count": null,
   "metadata": {},
   "outputs": [],
   "source": [
    "a = 1\n",
    "\n",
    "while( a < 1000 ):\n",
    "    a = 2*a\n",
    "    print(a)"
   ]
  },
  {
   "cell_type": "markdown",
   "metadata": {
    "slideshow": {
     "slide_type": "slide"
    }
   },
   "source": [
    "## Ejercicio de Programación: \n",
    "\n",
    "Escriba un programa que imprima los números del 1 al 100, pero que para los múltiplos de 3 imprima `Fizz` en lugar del número y para los múltiplos de 5 imprima `Buzz`.\n",
    "\n",
    "Para números que son múltiplos de 3 y 5 imprima `FizzBuzz`."
   ]
  },
  {
   "cell_type": "code",
   "execution_count": null,
   "metadata": {
    "slideshow": {
     "slide_type": "fragment"
    }
   },
   "outputs": [],
   "source": [
    "for num in range(1, 100):\n",
    "    if num % 3 == 0 and num % 5 == 0:\n",
    "        print('FizzBuzz')\n",
    "    elif num % 3 == 0:\n",
    "        print('Fizz')\n",
    "    elif num % 5 == 0:\n",
    "        print('Buzz')\n",
    "    else:\n",
    "        print(num)"
   ]
  },
  {
   "cell_type": "markdown",
   "metadata": {
    "slideshow": {
     "slide_type": "slide"
    }
   },
   "source": [
    "# Funciones\n",
    "\n",
    "- Una función es un bloque de código reutilizable que solo corre al ser llamado.\n",
    "- Se le puede pasar parámetros de entrada.\n",
    "- Puede returnar datos como resultado.\n",
    "- Una funcion es definida usando la palabra `def`"
   ]
  },
  {
   "cell_type": "code",
   "execution_count": null,
   "metadata": {
    "slideshow": {
     "slide_type": "-"
    }
   },
   "outputs": [],
   "source": [
    "def my_function():\n",
    "    print(f'Hola mundo, desde mi función.')\n",
    "\n",
    "my_function()"
   ]
  },
  {
   "cell_type": "markdown",
   "metadata": {
    "slideshow": {
     "slide_type": "subslide"
    }
   },
   "source": [
    "### Atributos de una función"
   ]
  },
  {
   "cell_type": "code",
   "execution_count": null,
   "metadata": {
    "slideshow": {
     "slide_type": "-"
    }
   },
   "outputs": [],
   "source": [
    "def my_function(nombre, msj='Bienvenido a la UIS.'):\n",
    "    print(f'Hola {nombre}, {msj}')\n",
    "    \n",
    "my_function('Diego')\n",
    "\n",
    "my_function('Diego', 'quedaste PFU.')"
   ]
  },
  {
   "cell_type": "markdown",
   "metadata": {
    "slideshow": {
     "slide_type": "subslide"
    }
   },
   "source": [
    "### Retornar valores"
   ]
  },
  {
   "cell_type": "code",
   "execution_count": null,
   "metadata": {
    "slideshow": {
     "slide_type": "-"
    }
   },
   "outputs": [],
   "source": [
    "def multiplicador(x):\n",
    "    return 5*x\n",
    "\n",
    "multiplicador(10)"
   ]
  },
  {
   "cell_type": "markdown",
   "metadata": {
    "slideshow": {
     "slide_type": "subslide"
    }
   },
   "source": [
    "## Ejemplo mas completo\n",
    "\n",
    "1. Cree dos archivos llamados `calculadora.py` y `principal.py` que estén en la misma carpeta.\n",
    "\n",
    "2. En el archivo `calculadora.py` crear 4 funciones para sumar, restar, multiplicar y dividir dos números enteros, controle la división por 0 usando un if.\n",
    "\n",
    "3. En el archivo `principal.py` escribir el siguiente código:\n",
    "\n",
    "```python\n",
    "from calculadora import suma, resta, multiplicacion, division\n",
    "\n",
    "a = 1\n",
    "b = 3.14\n",
    "\n",
    "print(f'{a} + {b} = {suma(a,b)}')\n",
    "print(f'{a} - {b} = {resta(a,b)}')\n",
    "print(f'{a} * {b} = {multiplicacion(a,b)}')\n",
    "print(f'{a} / {b} = {division(a,b)}')\n",
    "print(f'{a} / {0} = {division(a,0)}')\n",
    "\n",
    "```"
   ]
  }
 ],
 "metadata": {
  "kernelspec": {
   "display_name": "Python 3",
   "language": "python",
   "name": "python3"
  },
  "language_info": {
   "codemirror_mode": {
    "name": "ipython",
    "version": 3
   },
   "file_extension": ".py",
   "mimetype": "text/x-python",
   "name": "python",
   "nbconvert_exporter": "python",
   "pygments_lexer": "ipython3",
   "version": "3.6.6"
  }
 },
 "nbformat": 4,
 "nbformat_minor": 2
}
